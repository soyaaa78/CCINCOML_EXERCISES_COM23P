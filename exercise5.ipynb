{
  "nbformat": 4,
  "nbformat_minor": 0,
  "metadata": {
    "colab": {
      "provenance": [],
      "include_colab_link": true
    },
    "kernelspec": {
      "name": "python3",
      "display_name": "Python 3"
    },
    "language_info": {
      "name": "python"
    }
  },
  "cells": [
    {
      "cell_type": "markdown",
      "metadata": {
        "id": "view-in-github",
        "colab_type": "text"
      },
      "source": [
        "<a href=\"https://colab.research.google.com/github/soyaaa78/CCINCOML_EXERCISES_COM23P/blob/main/exercise5.ipynb\" target=\"_parent\"><img src=\"https://colab.research.google.com/assets/colab-badge.svg\" alt=\"Open In Colab\"/></a>"
      ]
    },
    {
      "cell_type": "markdown",
      "source": [
        "# Exercise 5"
      ],
      "metadata": {
        "id": "2YKNSy_M9wSB"
      }
    },
    {
      "cell_type": "markdown",
      "source": [
        "1. Compute the average\n",
        "\n",
        "My electricity bills for the last three months have been 23, 32 and 64.\n",
        "\n",
        "- What is the average monthly electricity bill over the three month period?\n",
        "\n",
        "- Write an expression to calculate the mean, and use print() to view the result."
      ],
      "metadata": {
        "id": "AW0H1ylt3H9g"
      }
    },
    {
      "cell_type": "code",
      "execution_count": 35,
      "metadata": {
        "id": "3a9CllzZ28_6",
        "colab": {
          "base_uri": "https://localhost:8080/"
        },
        "outputId": "d7be26fe-0be2-4006-c0f4-9552d51f1265"
      },
      "outputs": [
        {
          "output_type": "stream",
          "name": "stdout",
          "text": [
            "The average monthly electricity bill over the three month period is 39.666666666666664\n"
          ]
        }
      ],
      "source": [
        "# Answer:\n",
        "\n",
        "november = 23\n",
        "december = 32\n",
        "january = 64\n",
        "\n",
        "average = (november + december + january) / 3\n",
        "print(\"The average monthly electricity bill over the three month period is\" ,average)"
      ]
    },
    {
      "cell_type": "markdown",
      "source": [
        "2. Create a condition\n",
        "\n",
        "The code below calculates the population densities of Rio de Janeiro and San Francisco.\n",
        "\n",
        "Write a code to compare these densities. Is the population of San Francisco more dense than that of Rio de Janeiro? Print True if it is and False if not."
      ],
      "metadata": {
        "id": "lDgi4WMA3UDM"
      }
    },
    {
      "cell_type": "code",
      "source": [
        "sf_population, sf_area = 864816, 231.89\n",
        "rio_population, rio_area = 6453682, 486.5\n",
        "\n",
        "san_francisco_pop_density = sf_population/sf_area\n",
        "rio_de_janeiro_pop_density = rio_population/rio_area\n",
        "\n",
        "# Write code that prints True if San Francisco is denser than Rio, and False otherwise"
      ],
      "metadata": {
        "id": "-K4Umghk34X3"
      },
      "execution_count": null,
      "outputs": []
    },
    {
      "cell_type": "code",
      "source": [
        "# Answer\n",
        "\n",
        "sf_population, sf_area = 864816, 231.89\n",
        "rio_population, rio_area = 6453682, 486.5\n",
        "\n",
        "san_francisco_pop_density = sf_population/sf_area\n",
        "rio_de_janeiro_pop_density = rio_population/rio_area\n",
        "\n",
        "\n",
        "if san_francisco_pop_density  > rio_de_janeiro_pop_density:\n",
        "  result = \"True\"\n",
        "else:\n",
        "  result = \"False\"\n",
        "\n",
        "print(result)\n"
      ],
      "metadata": {
        "colab": {
          "base_uri": "https://localhost:8080/"
        },
        "id": "fQ2GZkowJQSz",
        "outputId": "523c7240-9b01-4d2b-8cf9-27761469ffa3"
      },
      "execution_count": 70,
      "outputs": [
        {
          "output_type": "stream",
          "name": "stdout",
          "text": [
            "False\n"
          ]
        }
      ]
    },
    {
      "cell_type": "markdown",
      "source": [
        "3. Fix the error\n",
        "\n",
        "The line of code below will cause a SyntaxError, thanks to the misuse of quotation marks.\n",
        "\n",
        "- First run it with Test Run to view the error message.\n",
        "- Then resolve the problem so that the quote (from Henry Ford(opens in a new tab)) is correctly assigned to the variable ford_quote."
      ],
      "metadata": {
        "id": "2sgJy-_C4N8b"
      }
    },
    {
      "cell_type": "code",
      "source": [
        "# TODO: Fix this string!\n",
        "ford_quote = 'Whether you think you can, or you think you can't--you're right.'"
      ],
      "metadata": {
        "id": "xARijZmm4bp2",
        "colab": {
          "base_uri": "https://localhost:8080/",
          "height": 106
        },
        "outputId": "eba37252-37bb-4300-d02c-a70191b110a4"
      },
      "execution_count": 12,
      "outputs": [
        {
          "output_type": "error",
          "ename": "SyntaxError",
          "evalue": "invalid syntax (<ipython-input-12-47d11273e814>, line 2)",
          "traceback": [
            "\u001b[0;36m  File \u001b[0;32m\"<ipython-input-12-47d11273e814>\"\u001b[0;36m, line \u001b[0;32m2\u001b[0m\n\u001b[0;31m    ford_quote = 'Whether you think you can, or you think you can't--you're right.'\u001b[0m\n\u001b[0m                                                                  ^\u001b[0m\n\u001b[0;31mSyntaxError\u001b[0m\u001b[0;31m:\u001b[0m invalid syntax\n"
          ]
        }
      ]
    },
    {
      "cell_type": "code",
      "source": [
        "# Answer:\n",
        "\n",
        "ford_quote = 'Whether you think you can, or you think you can\\'t you\\'re right.'\n",
        "print (ford_quote)"
      ],
      "metadata": {
        "colab": {
          "base_uri": "https://localhost:8080/"
        },
        "id": "V0uhVbr2Ga9w",
        "outputId": "4ef22f35-0dd4-4296-a727-24436c8f8e12"
      },
      "execution_count": 36,
      "outputs": [
        {
          "output_type": "stream",
          "name": "stdout",
          "text": [
            "Whether you think you can, or you think you can't you're right.\n"
          ]
        }
      ]
    },
    {
      "cell_type": "markdown",
      "source": [
        "4. Write a server log message\n",
        "\n",
        "You’ll be provided with example data for a user, the time of their visit and the site they accessed. You should use the variables provided and the techniques you’ve learned to print a log message like this one (with the username, url, and timestamp replaced with values from the appropriate variables):"
      ],
      "metadata": {
        "id": "wZBoOGlh4zf9"
      }
    },
    {
      "cell_type": "code",
      "source": [
        "username = \"Kinari\"\n",
        "timestamp = \"04:50\"\n",
        "url = \"http://petshop.com/pets/mammals/cats\"\n",
        "\n",
        "# TODO: print a log message using the variables above.\n",
        "# The message should have the same format as this one:\n",
        "# \"Yogesh accessed the site http://petshop.com/pets/reptiles/pythons at 16:20.\"\n"
      ],
      "metadata": {
        "id": "0xoFuFFw48AX",
        "colab": {
          "base_uri": "https://localhost:8080/"
        },
        "outputId": "3bdc3e24-4480-437e-d283-ec1c9d382c9c"
      },
      "execution_count": 14,
      "outputs": [
        {
          "output_type": "stream",
          "name": "stdout",
          "text": [
            "Kinari accessed the site http://petshop.com/pets/mammals/cats at 04:50\n"
          ]
        }
      ]
    },
    {
      "cell_type": "code",
      "source": [
        "# Answer:\n",
        "\n",
        "username = \"Kinari\"\n",
        "timestamp = \"04:50\"\n",
        "url = \"http://petshop.com/pets/mammals/cats\"\n",
        "\n",
        "print(username + ' accessed the site ' + url + ' at ' +timestamp)"
      ],
      "metadata": {
        "colab": {
          "base_uri": "https://localhost:8080/"
        },
        "id": "GyHEEoqPH6xj",
        "outputId": "56cd6c02-6786-4364-be22-9594f6067ee6"
      },
      "execution_count": 37,
      "outputs": [
        {
          "output_type": "stream",
          "name": "stdout",
          "text": [
            "Kinari accessed the site http://petshop.com/pets/mammals/cats at 04:50\n"
          ]
        }
      ]
    },
    {
      "cell_type": "markdown",
      "source": [
        "5. Use string concatenation and the `len()` function to find the length of a certain movie star's actual full name. Store that length in the name_length variable. Don't forget that there are spaces in between the different parts of a name!"
      ],
      "metadata": {
        "id": "I0khhJta5eal"
      }
    },
    {
      "cell_type": "code",
      "source": [
        "given_name = \"William\"\n",
        "middle_names = \"Bradley\"\n",
        "family_name = \"Pitt\"\n",
        "\n",
        "name_length = #todo: calculate how long this name is"
      ],
      "metadata": {
        "id": "zhNS8sDo5faD"
      },
      "execution_count": null,
      "outputs": []
    },
    {
      "cell_type": "code",
      "source": [
        "# Answer:\n",
        "\n",
        "given_name = \"William\"\n",
        "middle_names = \"Bradley\"\n",
        "family_name = \"Pitt\"\n",
        "\n",
        "full_name = (given_name + \" \" +middle_names + \" \" + family_name)\n",
        "\n",
        "name_length = len(full_name)\n",
        "print(\"The length of the full name is\" ,name_length)"
      ],
      "metadata": {
        "colab": {
          "base_uri": "https://localhost:8080/"
        },
        "id": "bdKv7-eyIKA3",
        "outputId": "a4b21f8b-7755-40bc-858f-f1f317c6ec2f"
      },
      "execution_count": 39,
      "outputs": [
        {
          "output_type": "stream",
          "name": "stdout",
          "text": [
            "The length of the full name is 20\n"
          ]
        }
      ]
    },
    {
      "cell_type": "markdown",
      "source": [
        "6. Type Conversion\n",
        "\n",
        "- You will need to change the types of the input and output data in order to get the result you want.\n",
        "\n",
        "- Calculate and print the total sales for the week from the data provided.\n",
        "\n",
        "- Print out a string of the form \"This week's total sales: xxx\", where xxx will be the actual total of all the numbers. You’ll need to change the type of the input data in order to calculate that total."
      ],
      "metadata": {
        "id": "8Tkd7nsi5v_5"
      }
    },
    {
      "cell_type": "code",
      "source": [
        "mon_sales = \"121\"\n",
        "tues_sales = \"105\"\n",
        "wed_sales = \"110\"\n",
        "thurs_sales = \"98\"\n",
        "fri_sales = \"95\"\n",
        "\n",
        "#TODO: Print a string with this format: This week's total sales: xxx\n",
        "# You will probably need to write some lines of code before the print statement.\n",
        "\n",
        "total_sales = (mon_sales + tues_sales + wed_sales + thurs_sales + fri_sales)\n",
        "print(\"This week total sales \" +total_sales)"
      ],
      "metadata": {
        "id": "gNE_Md8954Dx",
        "colab": {
          "base_uri": "https://localhost:8080/"
        },
        "outputId": "59808eb7-67a5-4987-e10e-6d39b319e913"
      },
      "execution_count": 16,
      "outputs": [
        {
          "output_type": "stream",
          "name": "stdout",
          "text": [
            "This week total sales 1211051109895\n"
          ]
        }
      ]
    },
    {
      "cell_type": "code",
      "source": [
        "# Answer:\n",
        "\n",
        "mon_sales = \"121\"\n",
        "tues_sales = \"105\"\n",
        "wed_sales = \"110\"\n",
        "thurs_sales = \"98\"\n",
        "fri_sales = \"95\"\n",
        "\n",
        "mon_sales = int(mon_sales)\n",
        "tues_sales = int(tues_sales)\n",
        "wed_sales = int(wed_sales)\n",
        "thurs_sales = int(thurs_sales)\n",
        "fri_sales = int(fri_sales)\n",
        "\n",
        "total_sales = (mon_sales + tues_sales + wed_sales + thurs_sales + fri_sales)\n",
        "print(\"This week\\'s total sales \" +str(total_sales))"
      ],
      "metadata": {
        "colab": {
          "base_uri": "https://localhost:8080/"
        },
        "id": "97mejkilJ8sC",
        "outputId": "926183d6-72c6-46ff-8e98-9d5896cae1b0"
      },
      "execution_count": 40,
      "outputs": [
        {
          "output_type": "stream",
          "name": "stdout",
          "text": [
            "This week's total sales 529\n"
          ]
        }
      ]
    },
    {
      "cell_type": "markdown",
      "source": [
        "7. String methods\n",
        "\n",
        "Below, we have a string variable that contains the first verse of the poem, If by Rudyard Kipling(opens in a new tab)"
      ],
      "metadata": {
        "id": "6WXIVMFX6eNA"
      }
    },
    {
      "cell_type": "code",
      "source": [
        "verse = \"If you can keep your head when all about you\\n  Are losing theirs and blaming it on you,\\nIf you can trust yourself when all men doubt you,\\n  But make allowance for their doubting too;\\nIf you can wait and not be tired by waiting,\\n  Or being lied about, don’t deal in lies,\\nOr being hated, don’t give way to hating,\\n  And yet don’t look too good, nor talk too wise:\"\n",
        "print(verse)"
      ],
      "metadata": {
        "id": "4Kp9Vbxr6epE",
        "colab": {
          "base_uri": "https://localhost:8080/"
        },
        "outputId": "e010c4e3-bd06-4dcc-cbca-a1bd20a62e25"
      },
      "execution_count": 41,
      "outputs": [
        {
          "output_type": "stream",
          "name": "stdout",
          "text": [
            "If you can keep your head when all about you\n",
            "  Are losing theirs and blaming it on you,\n",
            "If you can trust yourself when all men doubt you,\n",
            "  But make allowance for their doubting too;\n",
            "If you can wait and not be tired by waiting,\n",
            "  Or being lied about, don’t deal in lies,\n",
            "Or being hated, don’t give way to hating,\n",
            "  And yet don’t look too good, nor talk too wise:\n"
          ]
        }
      ]
    },
    {
      "cell_type": "markdown",
      "source": [
        "What is the length of the string variable verse?"
      ],
      "metadata": {
        "id": "HX5plsix7Ntd"
      }
    },
    {
      "cell_type": "code",
      "source": [
        "# Answer:\n",
        "\n",
        "verse = \"If you can keep your head when all about you\\n  Are losing theirs and blaming it on you,\\nIf you can trust yourself when all men doubt you,\\n  But make allowance for their doubting too;\\nIf you can wait and not be tired by waiting,\\n  Or being lied about, don’t deal in lies,\\nOr being hated, don’t give way to hating,\\n  And yet don’t look too good, nor talk too wise:\"\n",
        "\n",
        "words  = verse.split()\n",
        "count_words = len(words)\n",
        "\n",
        "print(\"The length of string variable in the verse is\" ,count_words)"
      ],
      "metadata": {
        "id": "uMA2Y5rG7OFR",
        "colab": {
          "base_uri": "https://localhost:8080/"
        },
        "outputId": "b4a811b1-b8e5-4506-b943-a9af9277242d"
      },
      "execution_count": 42,
      "outputs": [
        {
          "output_type": "stream",
          "name": "stdout",
          "text": [
            "The length of string variable in the verse is 71\n"
          ]
        }
      ]
    },
    {
      "cell_type": "markdown",
      "source": [
        "What is the count of occurrences of the word 'you' in the verse?"
      ],
      "metadata": {
        "id": "XvEqzG-r7GMG"
      }
    },
    {
      "cell_type": "code",
      "source": [
        "# Answer:\n",
        "\n",
        "verse = \"If you can keep your head when all about you\\n  Are losing theirs and blaming it on you,\\nIf you can trust yourself when all men doubt you,\\n  But make allowance for their doubting too;\\nIf you can wait and not be tired by waiting,\\n  Or being lied about, don’t deal in lies,\\nOr being hated, don’t give way to hating,\\n  And yet don’t look too good, nor talk too wise:\"\n",
        "\n",
        "you_count = verse.count(\"you\")\n",
        "\n",
        "print(\"The occurences of the word \\\"you\\\" in the verse is\" ,you_count)"
      ],
      "metadata": {
        "id": "SWeEUevY7Fui",
        "colab": {
          "base_uri": "https://localhost:8080/"
        },
        "outputId": "c1183000-8c30-441e-d2e6-536c9e50513e"
      },
      "execution_count": 33,
      "outputs": [
        {
          "output_type": "stream",
          "name": "stdout",
          "text": [
            "The occurences of the word \"you\" in the verse is 8\n"
          ]
        }
      ]
    },
    {
      "cell_type": "markdown",
      "source": [
        "What is the index of the first occurrence of the word 'head' in verse?"
      ],
      "metadata": {
        "id": "8Lvcl-0L7SmJ"
      }
    },
    {
      "cell_type": "code",
      "source": [
        "# Answer:\n",
        "\n",
        "verse = \"If you can keep your head when all about you\\n  Are losing theirs and blaming it on you,\\nIf you can trust yourself when all men doubt you,\\n  But make allowance for their doubting too;\\nIf you can wait and not be tired by waiting,\\n  Or being lied about, don’t deal in lies,\\nOr being hated, don’t give way to hating,\\n  And yet don’t look too good, nor talk too wise:\"\n",
        "\n",
        "index_count = verse.index(\"head\")\n",
        "\n",
        "print(\"The index of the first occurrence of the word \\\"head\\\" in the verse is\" ,index_count)"
      ],
      "metadata": {
        "id": "foPeKDud7SzQ",
        "colab": {
          "base_uri": "https://localhost:8080/"
        },
        "outputId": "41fabab1-dbe0-4247-b5b7-bd24524dffde"
      },
      "execution_count": 52,
      "outputs": [
        {
          "output_type": "stream",
          "name": "stdout",
          "text": [
            "The index of the first occurrence of the word \"head\" in the verse is 21\n"
          ]
        }
      ]
    },
    {
      "cell_type": "markdown",
      "source": [
        "8. Which Prize?\n",
        "\n",
        "- Write an if statement that lets a competitor know which of these prizes they won based on the number of points they scored, which is stored in the integer variable points.\n",
        "\n",
        "|   Points| Prize  |   \n",
        "|---|---|\n",
        "|  1 - 50  |  Candy |\n",
        "|  51 - 150 |  Chocolate |  \n",
        "|  151 - 200 | Sports Car  |   \n",
        "|  201 - 250 | Mansion  |  \n",
        "\n",
        "\n",
        " - In your if statement, assign the result variable to a string holding the appropriate message based on the value of points. If they've won a prize, the message should state \"Congratulations! You won a [prize name]!\" with the prize name. If there's no prize, the message should state \"Oh dear, no prize this time.\""
      ],
      "metadata": {
        "id": "b1uSYvN374nv"
      }
    },
    {
      "cell_type": "code",
      "source": [
        "# Answer\n",
        "points = 235\n",
        "\n",
        "if 1 <= points <=50:\n",
        "  result = \"Congratulations! You won a Candy!\"\n",
        "elif 51 <= points <= 150:\n",
        "  result = \"Congratulations! You won a Chocolate!\"\n",
        "elif 151 <= points<= 200:\n",
        "  result = \"Congratulations! You won a Sports Car!\"\n",
        "elif 201<= points <= 250:\n",
        "  result = \"Congratulations! You won a Sports Car!\"\n",
        "else:\n",
        "  result = \"Oh dear, no prize this time.\"\n",
        "\n",
        "print(result)\n"
      ],
      "metadata": {
        "id": "rTDH4N1x7436",
        "colab": {
          "base_uri": "https://localhost:8080/"
        },
        "outputId": "a2c3c5a9-5c23-4e56-d091-ef59a9240891"
      },
      "execution_count": 50,
      "outputs": [
        {
          "output_type": "stream",
          "name": "stdout",
          "text": [
            "Congratulations! You won a Sports Car!\n"
          ]
        }
      ]
    },
    {
      "cell_type": "markdown",
      "source": [
        "9. Guess My Number\n",
        "\n",
        "- You decide you want to play a game where you are hiding a number from someone. Store this number in a variable called 'answer'. Another user provides a number called 'guess'. By comparing guess to answer, you inform the user if their guess is too high or too low.\n",
        "\n",
        "- Fill in the conditionals below to inform the user about how their guess compares to the answer."
      ],
      "metadata": {
        "id": "XdxTkPje9EUY"
      }
    },
    {
      "cell_type": "code",
      "source": [
        "# Answer:\n",
        "\n",
        "answer = 50\n",
        "\n",
        "guess = int(input(\"Enter your guess: \"))\n",
        "\n",
        "if guess < answer:\n",
        "  result = \"Your guess \" +str(guess) + \" is too low!\"\n",
        "elif guess > answer:\n",
        "    result = \"Your guess \" +str(guess) + \" is too high!\"\n",
        "else:\n",
        "  result = \"Congrats! Your guess \" +str(guess) +\" is correct!\"\n",
        "\n",
        "print(result)\n"
      ],
      "metadata": {
        "id": "tcsIibtJ9Eic",
        "colab": {
          "base_uri": "https://localhost:8080/"
        },
        "outputId": "0a11ef54-c09a-4d8a-8fc2-055e7bf98507"
      },
      "execution_count": 63,
      "outputs": [
        {
          "output_type": "stream",
          "name": "stdout",
          "text": [
            "Enter your guess: 50\n",
            "Congrats! Your guess 50 is correct!\n"
          ]
        }
      ]
    }
  ]
}